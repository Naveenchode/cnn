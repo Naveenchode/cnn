{
  "nbformat": 4,
  "nbformat_minor": 0,
  "metadata": {
    "colab": {
      "name": "Copy_of_COVID_19_Detector.ipynb",
      "provenance": []
    },
    "kernelspec": {
      "name": "python3",
      "display_name": "Python 3"
    },
    "accelerator": "GPU"
  },
  "cells": [
    {
      "cell_type": "code",
      "metadata": {
        "id": "jcSTCf3Xp2f9"
      },
      "source": [
        "# Dataset : http://cb.lk/covid_19\n",
        " \n",
        "#!wget http://cb.lk/covid_19"
      ],
      "execution_count": null,
      "outputs": []
    },
    {
      "cell_type": "code",
      "metadata": {
        "colab": {
          "base_uri": "https://localhost:8080/"
        },
        "id": "FqxARIJInoIB",
        "outputId": "ae9490f3-f226-4c95-da30-a63d702b4198"
      },
      "source": [
        "from google.colab import drive\n",
        "\n",
        "drive.mount(\"/content/gdrive\")"
      ],
      "execution_count": 1,
      "outputs": [
        {
          "output_type": "stream",
          "text": [
            "Mounted at /content/gdrive\n"
          ],
          "name": "stdout"
        }
      ]
    },
    {
      "cell_type": "code",
      "metadata": {
        "id": "7FPSlY63qFJ6",
        "colab": {
          "base_uri": "https://localhost:8080/"
        },
        "outputId": "755e85b4-850b-4b57-c2e0-8d48ead1b61f"
      },
      "source": [
        "#(covid + normal)\n",
        "!unzip /content/gdrive/MyDrive/CovidDataset.zip"
      ],
      "execution_count": 2,
      "outputs": [
        {
          "output_type": "stream",
          "text": [
            "Archive:  /content/gdrive/MyDrive/CovidDataset.zip\n",
            "   creating: CovidDataset/Train/\n",
            "   creating: CovidDataset/Train/Covid/\n",
            "  inflating: CovidDataset/Train/Covid/01E392EE-69F9-4E33-BFCE-E5C968654078.jpeg  \n",
            "  inflating: CovidDataset/Train/Covid/03BF7561-A9BA-4C3C-B8A0-D3E585F73F3C.jpeg  \n",
            "  inflating: CovidDataset/Train/Covid/1.CXRCTThoraximagesofCOVID-19fromSingapore.pdf-000-fig1a.png  \n",
            "  inflating: CovidDataset/Train/Covid/1.CXRCTThoraximagesofCOVID-19fromSingapore.pdf-000-fig1b.png  \n",
            "  inflating: CovidDataset/Train/Covid/1.CXRCTThoraximagesofCOVID-19fromSingapore.pdf-001-fig2a.png  \n",
            "  inflating: CovidDataset/Train/Covid/1.CXRCTThoraximagesofCOVID-19fromSingapore.pdf-001-fig2b.png  \n",
            "  inflating: CovidDataset/Train/Covid/1.CXRCTThoraximagesofCOVID-19fromSingapore.pdf-002-fig3a.png  \n",
            "  inflating: CovidDataset/Train/Covid/1.CXRCTThoraximagesofCOVID-19fromSingapore.pdf-002-fig3b.png  \n",
            "  inflating: CovidDataset/Train/Covid/1.CXRCTThoraximagesofCOVID-19fromSingapore.pdf-003-fig4a.png  \n",
            "  inflating: CovidDataset/Train/Covid/1.CXRCTThoraximagesofCOVID-19fromSingapore.pdf-003-fig4b.png  \n",
            "  inflating: CovidDataset/Train/Covid/1312A392-67A3-4EBF-9319-810CF6DA5EF6.jpeg  \n",
            "  inflating: CovidDataset/Train/Covid/16660_1_1.jpg  \n",
            "  inflating: CovidDataset/Train/Covid/16660_2_1.jpg  \n",
            "  inflating: CovidDataset/Train/Covid/16660_3_1.jpg  \n",
            "  inflating: CovidDataset/Train/Covid/16660_4_1.jpg  \n",
            "  inflating: CovidDataset/Train/Covid/16663_1_1.jpg  \n",
            "  inflating: CovidDataset/Train/Covid/16664_1_1.jpg  \n",
            "  inflating: CovidDataset/Train/Covid/16669_1_1.jpeg  \n",
            "  inflating: CovidDataset/Train/Covid/16669_3_1.jpeg  \n",
            "  inflating: CovidDataset/Train/Covid/16672_1_1.jpg  \n",
            "  inflating: CovidDataset/Train/Covid/171CB377-62FF-4B76-906C-F3787A01CB2E.jpeg  \n",
            "  inflating: CovidDataset/Train/Covid/1B734A89-A1BF-49A8-A1D3-66FAFA4FAC5D.jpeg  \n",
            "  inflating: CovidDataset/Train/Covid/1F6343EE-AFEC-4B7D-97F5-62797EE18767.jpeg  \n",
            "  inflating: CovidDataset/Train/Covid/1-s2.0-S0140673620303706-fx1_lrg.jpg  \n",
            "  inflating: CovidDataset/Train/Covid/1-s2.0-S0929664620300449-gr2_lrg-a.jpg  \n",
            "  inflating: CovidDataset/Train/Covid/1-s2.0-S0929664620300449-gr2_lrg-b.jpg  \n",
            "  inflating: CovidDataset/Train/Covid/1-s2.0-S0929664620300449-gr2_lrg-c.jpg  \n",
            "  inflating: CovidDataset/Train/Covid/1-s2.0-S0929664620300449-gr2_lrg-d.jpg  \n",
            "  inflating: CovidDataset/Train/Covid/1-s2.0-S1684118220300608-main.pdf-001.jpg  \n",
            "  inflating: CovidDataset/Train/Covid/1-s2.0-S1684118220300608-main.pdf-002.jpg  \n",
            "  inflating: CovidDataset/Train/Covid/1-s2.0-S1684118220300682-main.pdf-002-a1.png  \n",
            "  inflating: CovidDataset/Train/Covid/1-s2.0-S1684118220300682-main.pdf-002-a2.png  \n",
            "  inflating: CovidDataset/Train/Covid/1-s2.0-S1684118220300682-main.pdf-003-b1.png  \n",
            "  inflating: CovidDataset/Train/Covid/1-s2.0-S1684118220300682-main.pdf-003-b2.png  \n",
            "  inflating: CovidDataset/Train/Covid/23E99E2E-447C-46E5-8EB2-D35D12473C39.png  \n",
            "  inflating: CovidDataset/Train/Covid/2966893D-5DDF-4B68-9E2B-4979D5956C8E.jpeg  \n",
            "  inflating: CovidDataset/Train/Covid/2B8649B2-00C4-4233-85D5-1CE240CF233B.jpeg  \n",
            "  inflating: CovidDataset/Train/Covid/2C10A413-AABE-4807-8CCE-6A2025594067.jpeg  \n",
            "  inflating: CovidDataset/Train/Covid/2C26F453-AF3B-4517-BB9E-802CF2179543.jpeg  \n",
            "  inflating: CovidDataset/Train/Covid/2-chest-filmc.jpg  \n",
            "  inflating: CovidDataset/Train/Covid/31BA3780-2323-493F-8AED-62081B9C383B.jpeg  \n",
            "  inflating: CovidDataset/Train/Covid/353889E0-A1E8-4F9E-A0B8-F24F36BCFBFB.jpeg  \n",
            "  inflating: CovidDataset/Train/Covid/39EE8E69-5801-48DE-B6E3-BE7D1BCF3092.jpeg  \n",
            "  inflating: CovidDataset/Train/Covid/41591_2020_819_Fig1_HTML.webp-day10.png  \n",
            "  inflating: CovidDataset/Train/Covid/41591_2020_819_Fig1_HTML.webp-day5.png  \n",
            "  inflating: CovidDataset/Train/Covid/446B2CB6-B572-40AB-B01F-1910CA07086A.jpeg  \n",
            "  inflating: CovidDataset/Train/Covid/53EC07C9-5CC6-4BE4-9B6F-D7B0D72AAA7E.jpeg  \n",
            "  inflating: CovidDataset/Train/Covid/58cb9263f16e94305c730685358e4e_jumbo.jpeg  \n",
            "  inflating: CovidDataset/Train/Covid/5931B64A-7B97-485D-BE60-3F1EA76BC4F0.jpeg  \n",
            "  inflating: CovidDataset/Train/Covid/5A78BCA9-5B7A-440D-8A4E-AE7710EA6EAD.jpeg  \n",
            "  inflating: CovidDataset/Train/Covid/5CBC2E94-D358-401E-8928-965CCD965C5C.jpeg  \n",
            "  inflating: CovidDataset/Train/Covid/5e6dd879fde9502400e58b2f.jpeg  \n",
            "  inflating: CovidDataset/Train/Covid/6b44464d-73a7-4cf3-bbb6-ffe7168300e3.annot.original.jpeg  \n",
            "  inflating: CovidDataset/Train/Covid/6C94A287-C059-46A0-8600-AFB95F4727B7.jpeg  \n",
            "  inflating: CovidDataset/Train/Covid/6CB4EFC6-68FA-4CD5-940C-BEFA8DAFE9A7.jpeg  \n",
            "  inflating: CovidDataset/Train/Covid/7AF6C1AF-D249-4BD2-8C26-449304105D03.jpeg  \n",
            "  inflating: CovidDataset/Train/Covid/7C69C012-7479-493F-8722-ABC29C60A2DD.jpeg  \n",
            "  inflating: CovidDataset/Train/Covid/7D2CF6CE-F529-4470-8356-D33FFAF98600.jpeg  \n",
            "  inflating: CovidDataset/Train/Covid/7E335538-2F86-424E-A0AB-6397783A38D0.jpeg  \n",
            "  inflating: CovidDataset/Train/Covid/7EF28E12-F628-4BEC-A8C5-E6277C2E4F60.png  \n",
            "  inflating: CovidDataset/Train/Covid/7-fatal-covid19.jpg  \n",
            "  inflating: CovidDataset/Train/Covid/80446565-E090-4187-A031-9D3CEAA586C8.jpeg  \n",
            "  inflating: CovidDataset/Train/Covid/85E52EB3-56E9-4D67-82DA-DEA247C82886.jpeg  \n",
            "  inflating: CovidDataset/Train/Covid/8FDE8DBA-CFBD-4B4C-B1A4-6F36A93B7E87.jpeg  \n",
            "  inflating: CovidDataset/Train/Covid/93FE0BB1-022D-4F24-9727-987A07975FFB.jpeg  \n",
            "  inflating: CovidDataset/Train/Covid/9C34AF49-E589-44D5-92D3-168B3B04E4A6.jpeg  \n",
            "  inflating: CovidDataset/Train/Covid/9fdd3c3032296fd04d2cad5d9070d4_jumbo.jpeg  \n",
            "  inflating: CovidDataset/Train/Covid/ae6c954c0039de4b5edee53865ffee43-e6c8-0.jpg  \n",
            "  inflating: CovidDataset/Train/Covid/all14238-fig-0001-m-b.jpg  \n",
            "  inflating: CovidDataset/Train/Covid/all14238-fig-0001-m-c.jpg  \n",
            "  inflating: CovidDataset/Train/Covid/all14238-fig-0002-m-d.jpg  \n",
            "  inflating: CovidDataset/Train/Covid/all14238-fig-0002-m-e.jpg  \n",
            "  inflating: CovidDataset/Train/Covid/all14238-fig-0002-m-f.jpg  \n",
            "  inflating: CovidDataset/Train/Covid/AR-1.jpg  \n",
            "  inflating: CovidDataset/Train/Covid/AR-2.jpg  \n",
            "  inflating: CovidDataset/Train/Covid/auntminnie-a-2020_01_28_23_51_6665_2020_01_28_Vietnam_coronavirus.jpeg  \n",
            "  inflating: CovidDataset/Train/Covid/auntminnie-b-2020_01_28_23_51_6665_2020_01_28_Vietnam_coronavirus.jpeg  \n",
            "  inflating: CovidDataset/Train/Covid/auntminnie-c-2020_01_28_23_51_6665_2020_01_28_Vietnam_coronavirus.jpeg  \n",
            "  inflating: CovidDataset/Train/Covid/auntminnie-d-2020_01_28_23_51_6665_2020_01_28_Vietnam_coronavirus.jpeg  \n",
            "  inflating: CovidDataset/Train/Covid/B2D20576-00B7-4519-A415-72DE29C90C34.jpeg  \n",
            "  inflating: CovidDataset/Train/Covid/B59DD164-51D5-40DF-A926-6A42DD52EBE8.jpeg  \n",
            "  inflating: CovidDataset/Train/Covid/C6EA0BE5-B01E-4113-B194-18D956675E25.jpeg  \n",
            "  inflating: CovidDataset/Train/Covid/CD50BA96-6982-4C80-AE7B-5F67ACDBFA56.jpeg  \n",
            "  inflating: CovidDataset/Train/Covid/ciaa199.pdf-001-a.png  \n",
            "  inflating: CovidDataset/Train/Covid/ciaa199.pdf-001-b.png  \n",
            "  inflating: CovidDataset/Train/Covid/ciaa199.pdf-001-c.png  \n",
            "  inflating: CovidDataset/Train/Covid/covid-19-caso-70-1-PA.jpg  \n",
            "  inflating: CovidDataset/Train/Covid/covid-19-infection-exclusive-gastrointestinal-symptoms-l.png  \n",
            "  inflating: CovidDataset/Train/Covid/covid-19-infection-exclusive-gastrointestinal-symptoms-pa.png  \n",
            "  inflating: CovidDataset/Train/Covid/covid-19-pneumonia-12.jpg  \n",
            "  inflating: CovidDataset/Train/Covid/covid-19-pneumonia-14-PA.png  \n",
            "  inflating: CovidDataset/Train/Covid/covid-19-pneumonia-15-PA.jpg  \n",
            "  inflating: CovidDataset/Train/Covid/covid-19-pneumonia-19.jpg  \n",
            "  inflating: CovidDataset/Train/Covid/covid-19-pneumonia-2.jpg  \n",
            "  inflating: CovidDataset/Train/Covid/covid-19-pneumonia-20.jpg  \n",
            "  inflating: CovidDataset/Train/Covid/covid-19-pneumonia-20-pa-on-admission.jpg  \n",
            "  inflating: CovidDataset/Train/Covid/covid-19-pneumonia-22-day1-pa.png  \n",
            "  inflating: CovidDataset/Train/Covid/covid-19-pneumonia-22-day2-pa.png  \n",
            "  inflating: CovidDataset/Train/Covid/covid-19-pneumonia-24-day12.jpg  \n",
            "  inflating: CovidDataset/Train/Covid/covid-19-pneumonia-24-day6.jpg  \n",
            "  inflating: CovidDataset/Train/Covid/covid-19-pneumonia-24-day7.jpg  \n",
            "  inflating: CovidDataset/Train/Covid/covid-19-pneumonia-28.png  \n",
            "  inflating: CovidDataset/Train/Covid/covid-19-pneumonia-30-PA.jpg  \n",
            "  inflating: CovidDataset/Train/Covid/covid-19-pneumonia-34.png  \n",
            "  inflating: CovidDataset/Train/Covid/covid-19-pneumonia-38-pa.jpg  \n",
            "  inflating: CovidDataset/Train/Covid/covid-19-pneumonia-44-day-0.jpeg  \n",
            "  inflating: CovidDataset/Train/Covid/covid-19-pneumonia-58-day-10.jpg  \n",
            "  inflating: CovidDataset/Train/Covid/covid-19-pneumonia-58-day-3.jpg  \n",
            "  inflating: CovidDataset/Train/Covid/covid-19-pneumonia-58-day-7.jpg  \n",
            "  inflating: CovidDataset/Train/Covid/covid-19-pneumonia-58-day-9.jpg  \n",
            "  inflating: CovidDataset/Train/Covid/covid-19-pneumonia-67.jpeg  \n",
            "  inflating: CovidDataset/Train/Covid/covid-19-pneumonia-7-PA.jpg  \n",
            "  inflating: CovidDataset/Train/Covid/covid-19-pneumonia-bilateral.jpg  \n",
            "  inflating: CovidDataset/Train/Covid/covid-19-pneumonia-evolution-over-a-week-1-day0-PA.jpg  \n",
            "  inflating: CovidDataset/Train/Covid/covid-19-pneumonia-evolution-over-a-week-1-day3.jpg  \n",
            "  inflating: CovidDataset/Train/Covid/covid-19-pneumonia-evolution-over-a-week-1-day4.jpg  \n",
            "  inflating: CovidDataset/Train/Covid/covid-19-pneumonia-mild.JPG  \n",
            "  inflating: CovidDataset/Train/Covid/covid-19-pneumonia-rapidly-progressive-12-hours.jpg  \n",
            "  inflating: CovidDataset/Train/Covid/covid-19-pneumonia-rapidly-progressive-3-days.jpg  \n",
            "  inflating: CovidDataset/Train/Covid/covid-19-pneumonia-rapidly-progressive-admission.jpg  \n",
            "  inflating: CovidDataset/Train/Covid/covid-19-rapidly-progressive-acute-respiratory-distress-syndrome-ards-admission.jpg  \n",
            "  inflating: CovidDataset/Train/Covid/covid-19-rapidly-progressive-acute-respiratory-distress-syndrome-ards-day-1.jpg  \n",
            "  inflating: CovidDataset/Train/Covid/covid-19-rapidly-progressive-acute-respiratory-distress-syndrome-ards-day-2.jpg  \n",
            "  inflating: CovidDataset/Train/Covid/D7AF463C-2369-492D-908D-BE1911CCD74C.jpeg  \n",
            "  inflating: CovidDataset/Train/Covid/E1724330-1866-4581-8CD8-CEC9B8AFEDDE.jpeg  \n",
            "  inflating: CovidDataset/Train/Covid/E63574A7-4188-4C8D-8D17-9D67A18A1AFA.jpeg  \n",
            "  inflating: CovidDataset/Train/Covid/extubation-1.jpg  \n",
            "  inflating: CovidDataset/Train/Covid/extubation-13.jpg  \n",
            "  inflating: CovidDataset/Train/Covid/extubation-4.jpg  \n",
            "  inflating: CovidDataset/Train/Covid/extubation-8.jpg  \n",
            "  inflating: CovidDataset/Train/Covid/F2DE909F-E19C-4900-92F5-8F435B031AC6.jpeg  \n",
            "  inflating: CovidDataset/Train/Covid/F4341CE7-73C9-45C6-99C8-8567A5484B63.jpeg  \n",
            "  inflating: CovidDataset/Train/Covid/F63AB6CE-1968-4154-A70F-913AF154F53D.jpeg  \n",
            "  inflating: CovidDataset/Train/Covid/FE9F9A5D-2830-46F9-851B-1FF4534959BE.jpeg  \n",
            "  inflating: CovidDataset/Train/Covid/fff49165-b22d-4bb4-b9d1-d5d62c52436c.annot.original.png  \n",
            "  inflating: CovidDataset/Train/Covid/figure1-5e71be566aa8714a04de3386-98-left.jpeg  \n",
            "  inflating: CovidDataset/Train/Covid/figure1-5e73d7ae897e27ff066a30cb-98.jpeg  \n",
            "  inflating: CovidDataset/Train/Covid/figure1-5e75d0940b71e1b702629659-98-right.jpeg  \n",
            "  inflating: CovidDataset/Train/Covid/gr1_lrg-a.jpg  \n",
            "  inflating: CovidDataset/Train/Covid/gr1_lrg-b.jpg  \n",
            "  inflating: CovidDataset/Train/Covid/jkms-35-e79-g001-l-a.jpg  \n",
            "  inflating: CovidDataset/Train/Covid/jkms-35-e79-g001-l-b.jpg  \n",
            "  inflating: CovidDataset/Train/Covid/jkms-35-e79-g001-l-c.jpg  \n",
            "  inflating: CovidDataset/Train/Covid/kjr-21-e24-g001-l-a.jpg  \n",
            "  inflating: CovidDataset/Train/Covid/kjr-21-e24-g002-l-a.jpg  \n",
            "  inflating: CovidDataset/Train/Covid/kjr-21-e24-g003-l-a.jpg  \n",
            "  inflating: CovidDataset/Train/Covid/kjr-21-e25-g001-l-a.jpg  \n",
            "  inflating: CovidDataset/Train/Covid/lancet-case2a.jpg  \n",
            "  inflating: CovidDataset/Train/Covid/lancet-case2b.jpg  \n",
            "  inflating: CovidDataset/Train/Covid/nCoV-radiol.2020200269.fig1-day7.jpeg  \n",
            "  inflating: CovidDataset/Train/Covid/nejmc2001573_f1a.jpeg  \n",
            "  inflating: CovidDataset/Train/Covid/nejmc2001573_f1b.jpeg  \n",
            "  inflating: CovidDataset/Train/Covid/nejmoa2001191_f1-PA.jpeg  \n",
            "  inflating: CovidDataset/Train/Covid/nejmoa2001191_f3-PA.jpeg  \n",
            "  inflating: CovidDataset/Train/Covid/nejmoa2001191_f4.jpeg  \n",
            "  inflating: CovidDataset/Train/Covid/nejmoa2001191_f5-PA.jpeg  \n",
            "  inflating: CovidDataset/Train/Covid/paving.jpg  \n",
            "  inflating: CovidDataset/Train/Covid/radiol.2020200274.fig3d.png  \n",
            "  inflating: CovidDataset/Train/Covid/radiol.2020200490.fig3.jpeg  \n",
            "  inflating: CovidDataset/Train/Covid/ryct.2020200028.fig1a.jpeg  \n",
            "  inflating: CovidDataset/Train/Covid/ryct.2020200034.fig2.jpeg  \n",
            "  inflating: CovidDataset/Train/Covid/ryct.2020200034.fig5-day0.jpeg  \n",
            "  inflating: CovidDataset/Train/Covid/ryct.2020200034.fig5-day4.jpeg  \n",
            "  inflating: CovidDataset/Train/Covid/ryct.2020200034.fig5-day7.jpeg  \n",
            "  inflating: CovidDataset/Train/Covid/yxppt-2020-02-19_00-51-27_287214-day8.jpg  \n",
            "   creating: CovidDataset/Train/Normal/\n",
            "  inflating: CovidDataset/Train/Normal/00001280_004.png  \n",
            "  inflating: CovidDataset/Train/Normal/00001281_000.png  \n",
            "  inflating: CovidDataset/Train/Normal/00001299_000.png  \n",
            "  inflating: CovidDataset/Train/Normal/00001300_000.png  \n",
            "  inflating: CovidDataset/Train/Normal/00001303_001.png  \n",
            "  inflating: CovidDataset/Train/Normal/00001304_001.png  \n",
            "  inflating: CovidDataset/Train/Normal/00001305_001.png  \n",
            "  inflating: CovidDataset/Train/Normal/00001308_002.png  \n",
            "  inflating: CovidDataset/Train/Normal/00001315_006.png  \n",
            "  inflating: CovidDataset/Train/Normal/00001323_001.png  \n",
            "  inflating: CovidDataset/Train/Normal/00001323_002.png  \n",
            "  inflating: CovidDataset/Train/Normal/00001326_002.png  \n",
            "  inflating: CovidDataset/Train/Normal/00001362_001.png  \n",
            "  inflating: CovidDataset/Train/Normal/00001362_004.png  \n",
            "  inflating: CovidDataset/Train/Normal/00001362_008.png  \n",
            "  inflating: CovidDataset/Train/Normal/00001362_014.png  \n",
            "  inflating: CovidDataset/Train/Normal/00001362_017.png  \n",
            "  inflating: CovidDataset/Train/Normal/00001371_001.png  \n",
            "  inflating: CovidDataset/Train/Normal/00001371_002.png  \n",
            "  inflating: CovidDataset/Train/Normal/00001371_003.png  \n",
            "  inflating: CovidDataset/Train/Normal/00001385_000.png  \n",
            "  inflating: CovidDataset/Train/Normal/00001385_003.png  \n",
            "  inflating: CovidDataset/Train/Normal/00001389_001.png  \n",
            "  inflating: CovidDataset/Train/Normal/00001445_000.png  \n",
            "  inflating: CovidDataset/Train/Normal/00001452_002.png  \n",
            "  inflating: CovidDataset/Train/Normal/00001460_004.png  \n",
            "  inflating: CovidDataset/Train/Normal/00001504_000.png  \n",
            "  inflating: CovidDataset/Train/Normal/00001504_001.png  \n",
            "  inflating: CovidDataset/Train/Normal/00001504_002.png  \n",
            "  inflating: CovidDataset/Train/Normal/00001543_003.png  \n",
            "  inflating: CovidDataset/Train/Normal/00001543_004.png  \n",
            "  inflating: CovidDataset/Train/Normal/00001543_005.png  \n",
            "  inflating: CovidDataset/Train/Normal/00001573_000.png  \n",
            "  inflating: CovidDataset/Train/Normal/00001576_001.png  \n",
            "  inflating: CovidDataset/Train/Normal/00001591_000.png  \n",
            "  inflating: CovidDataset/Train/Normal/00001620_003.png  \n",
            "  inflating: CovidDataset/Train/Normal/00001620_005.png  \n",
            "  inflating: CovidDataset/Train/Normal/00001629_001.png  \n",
            "  inflating: CovidDataset/Train/Normal/00001684_000.png  \n",
            "  inflating: CovidDataset/Train/Normal/00001684_003.png  \n",
            "  inflating: CovidDataset/Train/Normal/00001684_005.png  \n",
            "  inflating: CovidDataset/Train/Normal/00001684_028.png  \n",
            "  inflating: CovidDataset/Train/Normal/00001689_008.png  \n",
            "  inflating: CovidDataset/Train/Normal/00001689_009.png  \n",
            "  inflating: CovidDataset/Train/Normal/00001699_002.png  \n",
            "  inflating: CovidDataset/Train/Normal/00001700_001.png  \n",
            "  inflating: CovidDataset/Train/Normal/00001710_000.png  \n",
            "  inflating: CovidDataset/Train/Normal/00001754_000.png  \n",
            "  inflating: CovidDataset/Train/Normal/00001759_001.png  \n",
            "  inflating: CovidDataset/Train/Normal/00001763_000.png  \n",
            "  inflating: CovidDataset/Train/Normal/00001803_017.png  \n",
            "  inflating: CovidDataset/Train/Normal/00001804_000.png  \n",
            "  inflating: CovidDataset/Train/Normal/00001807_000.png  \n",
            "  inflating: CovidDataset/Train/Normal/00001864_003.png  \n",
            "  inflating: CovidDataset/Train/Normal/00001865_000.png  \n",
            "  inflating: CovidDataset/Train/Normal/00001880_000.png  \n",
            "  inflating: CovidDataset/Train/Normal/00001951_010.png  \n",
            "  inflating: CovidDataset/Train/Normal/00001951_017.png  \n",
            "  inflating: CovidDataset/Train/Normal/00001957_002.png  \n",
            "  inflating: CovidDataset/Train/Normal/00001986_007.png  \n",
            "  inflating: CovidDataset/Train/Normal/00001986_011.png  \n",
            "  inflating: CovidDataset/Train/Normal/00001992_000.png  \n",
            "  inflating: CovidDataset/Train/Normal/00002013_002.png  \n",
            "  inflating: CovidDataset/Train/Normal/00002016_003.png  \n",
            "  inflating: CovidDataset/Train/Normal/00002022_000.png  \n",
            "  inflating: CovidDataset/Train/Normal/00002058_014.png  \n",
            "  inflating: CovidDataset/Train/Normal/00002070_003.png  \n",
            "  inflating: CovidDataset/Train/Normal/00002071_000.png  \n",
            "  inflating: CovidDataset/Train/Normal/00002120_007.png  \n",
            "  inflating: CovidDataset/Train/Normal/00002154_000.png  \n",
            "  inflating: CovidDataset/Train/Normal/00002184_002.png  \n",
            "  inflating: CovidDataset/Train/Normal/00002229_004.png  \n",
            "  inflating: CovidDataset/Train/Normal/00002233_000.png  \n",
            "  inflating: CovidDataset/Train/Normal/00002237_000.png  \n",
            "  inflating: CovidDataset/Train/Normal/00002311_002.png  \n",
            "  inflating: CovidDataset/Train/Normal/00002339_011.png  \n",
            "  inflating: CovidDataset/Train/Normal/00002339_012.png  \n",
            "  inflating: CovidDataset/Train/Normal/00002376_001.png  \n",
            "  inflating: CovidDataset/Train/Normal/00002380_002.png  \n",
            "  inflating: CovidDataset/Train/Normal/00002381_004.png  \n",
            "  inflating: CovidDataset/Train/Normal/00002457_013.png  \n",
            "  inflating: CovidDataset/Train/Normal/00002464_001.png  \n",
            "  inflating: CovidDataset/Train/Normal/00002474_006.png  \n",
            "  inflating: CovidDataset/Train/Normal/00002549_005.png  \n",
            "  inflating: CovidDataset/Train/Normal/00002550_000.png  \n",
            "  inflating: CovidDataset/Train/Normal/00002555_000.png  \n",
            "  inflating: CovidDataset/Train/Normal/00002582_001.png  \n",
            "  inflating: CovidDataset/Train/Normal/00002582_005.png  \n",
            "  inflating: CovidDataset/Train/Normal/00002582_006.png  \n",
            "  inflating: CovidDataset/Train/Normal/00002644_000.png  \n",
            "  inflating: CovidDataset/Train/Normal/00002645_002.png  \n",
            "  inflating: CovidDataset/Train/Normal/00002649_008.png  \n",
            "  inflating: CovidDataset/Train/Normal/00002673_019.png  \n",
            "  inflating: CovidDataset/Train/Normal/00002678_004.png  \n",
            "  inflating: CovidDataset/Train/Normal/00002678_005.png  \n",
            "  inflating: CovidDataset/Train/Normal/00002754_000.png  \n",
            "  inflating: CovidDataset/Train/Normal/00002790_003.png  \n",
            "  inflating: CovidDataset/Train/Normal/00002806_003.png  \n",
            "  inflating: CovidDataset/Train/Normal/00002843_019.png  \n",
            "  inflating: CovidDataset/Train/Normal/00002846_011.png  \n",
            "  inflating: CovidDataset/Train/Normal/00002852_000.png  \n",
            "  inflating: CovidDataset/Train/Normal/00002922_000.png  \n",
            "  inflating: CovidDataset/Train/Normal/00002933_000.png  \n",
            "  inflating: CovidDataset/Train/Normal/00002933_001.png  \n",
            "  inflating: CovidDataset/Train/Normal/00003005_002.png  \n",
            "  inflating: CovidDataset/Train/Normal/00003005_012.png  \n",
            "  inflating: CovidDataset/Train/Normal/00003005_013.png  \n",
            "  inflating: CovidDataset/Train/Normal/00003080_000.png  \n",
            "  inflating: CovidDataset/Train/Normal/00003097_003.png  \n",
            "  inflating: CovidDataset/Train/Normal/00003098_001.png  \n",
            "  inflating: CovidDataset/Train/Normal/00003137_001.png  \n",
            "  inflating: CovidDataset/Train/Normal/00003140_001.png  \n",
            "  inflating: CovidDataset/Train/Normal/00003140_003.png  \n",
            "  inflating: CovidDataset/Train/Normal/00003140_015.png  \n",
            "  inflating: CovidDataset/Train/Normal/00003140_016.png  \n",
            "  inflating: CovidDataset/Train/Normal/00003140_017.png  \n",
            "  inflating: CovidDataset/Train/Normal/00003190_013.png  \n",
            "  inflating: CovidDataset/Train/Normal/00003190_014.png  \n",
            "  inflating: CovidDataset/Train/Normal/00003190_015.png  \n",
            "  inflating: CovidDataset/Train/Normal/00003249_002.png  \n",
            "  inflating: CovidDataset/Train/Normal/00003259_000.png  \n",
            "  inflating: CovidDataset/Train/Normal/00003259_001.png  \n",
            "  inflating: CovidDataset/Train/Normal/00003310_000.png  \n",
            "  inflating: CovidDataset/Train/Normal/00003324_000.png  \n",
            "  inflating: CovidDataset/Train/Normal/00003324_001.png  \n",
            "  inflating: CovidDataset/Train/Normal/00003354_002.png  \n",
            "  inflating: CovidDataset/Train/Normal/00003356_000.png  \n",
            "  inflating: CovidDataset/Train/Normal/00003361_004.png  \n",
            "  inflating: CovidDataset/Train/Normal/00003370_001.png  \n",
            "  inflating: CovidDataset/Train/Normal/00003382_009.png  \n",
            "  inflating: CovidDataset/Train/Normal/00003384_000.png  \n",
            "  inflating: CovidDataset/Train/Normal/00003395_003.png  \n",
            "  inflating: CovidDataset/Train/Normal/00003407_005.png  \n",
            "  inflating: CovidDataset/Train/Normal/00003412_000.png  \n",
            "  inflating: CovidDataset/Train/Normal/00003426_016.png  \n",
            "  inflating: CovidDataset/Train/Normal/00003426_018.png  \n",
            "  inflating: CovidDataset/Train/Normal/00003428_002.png  \n",
            "  inflating: CovidDataset/Train/Normal/00003459_015.png  \n",
            "  inflating: CovidDataset/Train/Normal/00003461_000.png  \n",
            "  inflating: CovidDataset/Train/Normal/00003463_001.png  \n",
            "  inflating: CovidDataset/Train/Normal/00003490_010.png  \n",
            "  inflating: CovidDataset/Train/Normal/00003490_011.png  \n",
            "  inflating: CovidDataset/Train/Normal/00003490_012.png  \n",
            "  inflating: CovidDataset/Train/Normal/00003517_000.png  \n",
            "  inflating: CovidDataset/Train/Normal/00003518_000.png  \n",
            "  inflating: CovidDataset/Train/Normal/00003535_019.png  \n",
            "  inflating: CovidDataset/Train/Normal/00003562_001.png  \n",
            "  inflating: CovidDataset/Train/Normal/00003564_000.png  \n",
            "  inflating: CovidDataset/Train/Normal/00003570_003.png  \n",
            "  inflating: CovidDataset/Train/Normal/00003601_007.png  \n",
            "  inflating: CovidDataset/Train/Normal/00003611_007.png  \n",
            "  inflating: CovidDataset/Train/Normal/00003623_000.png  \n",
            "  inflating: CovidDataset/Train/Normal/00003689_010.png  \n",
            "  inflating: CovidDataset/Train/Normal/00003693_006.png  \n",
            "  inflating: CovidDataset/Train/Normal/00003693_007.png  \n",
            "  inflating: CovidDataset/Train/Normal/00003750_003.png  \n",
            "  inflating: CovidDataset/Train/Normal/00003758_005.png  \n",
            "  inflating: CovidDataset/Train/Normal/00003759_001.png  \n",
            "  inflating: CovidDataset/Train/Normal/00003847_004.png  \n",
            "  inflating: CovidDataset/Train/Normal/00003847_005.png  \n",
            "  inflating: CovidDataset/Train/Normal/00003847_010.png  \n",
            "  inflating: CovidDataset/Train/Normal/00003882_007.png  \n",
            "  inflating: CovidDataset/Train/Normal/00003895_000.png  \n",
            "  inflating: CovidDataset/Train/Normal/00003896_003.png  \n",
            "  inflating: CovidDataset/Train/Normal/IM-0156-0001.jpeg  \n",
            "  inflating: CovidDataset/Train/Normal/IM-0172-0001.jpeg  \n",
            "  inflating: CovidDataset/Train/Normal/IM-0176-0001.jpeg  \n",
            "  inflating: CovidDataset/Train/Normal/IM-0301-0001.jpeg  \n",
            "  inflating: CovidDataset/Train/Normal/IM-0326-0001.jpeg  \n",
            "  inflating: CovidDataset/Train/Normal/IM-0327-0001.jpeg  \n",
            "  inflating: CovidDataset/Train/Normal/IM-0389-0001.jpeg  \n",
            "  inflating: CovidDataset/Train/Normal/IM-0392-0001.jpeg  \n",
            "  inflating: CovidDataset/Train/Normal/IM-0421-0001.jpeg  \n",
            "  inflating: CovidDataset/Train/Normal/IM-0461-0001.jpeg  \n",
            "  inflating: CovidDataset/Train/Normal/IM-0467-0001.jpeg  \n",
            "  inflating: CovidDataset/Train/Normal/IM-0472-0001.jpeg  \n",
            "  inflating: CovidDataset/Train/Normal/IM-0525-0001.jpeg  \n",
            "  inflating: CovidDataset/Train/Normal/IM-0528-0001.jpeg  \n",
            "  inflating: CovidDataset/Train/Normal/IM-0529-0001.jpeg  \n",
            "  inflating: CovidDataset/Train/Normal/IM-0544-0001.jpeg  \n",
            "  inflating: CovidDataset/Train/Normal/IM-0551-0001-0001.jpeg  \n",
            "  inflating: CovidDataset/Train/Normal/IM-0551-0001-0002.jpeg  \n",
            "  inflating: CovidDataset/Train/Normal/IM-0648-0001.jpeg  \n",
            "  inflating: CovidDataset/Train/Normal/IM-0656-0001-0002.jpeg  \n",
            "  inflating: CovidDataset/Train/Normal/IM-0660-0001-0001.jpeg  \n",
            "  inflating: CovidDataset/Train/Normal/IM-0713-0001.jpeg  \n",
            "  inflating: CovidDataset/Train/Normal/IM-0724-0001.jpeg  \n",
            "  inflating: CovidDataset/Train/Normal/NORMAL2-IM-0499-0001.jpeg  \n",
            "  inflating: CovidDataset/Train/Normal/NORMAL2-IM-0831-0001.jpeg  \n",
            "  inflating: CovidDataset/Train/Normal/NORMAL2-IM-0840-0001.jpeg  \n",
            "  inflating: CovidDataset/Train/Normal/NORMAL2-IM-0847-0001.jpeg  \n",
            "  inflating: CovidDataset/Train/Normal/NORMAL2-IM-1020-0001-0001.jpeg  \n",
            "  inflating: CovidDataset/Train/Normal/NORMAL2-IM-1094-0001-0001.jpeg  \n",
            "  inflating: CovidDataset/Train/Normal/NORMAL2-IM-1103-0001-0001.jpeg  \n",
            "  inflating: CovidDataset/Train/Normal/NORMAL2-IM-1288-0001.jpeg  \n",
            "  inflating: CovidDataset/Train/Normal/NORMAL2-IM-1290-0001.jpeg  \n",
            "  inflating: CovidDataset/Train/Normal/NORMAL2-IM-1295-0001.jpeg  \n",
            "  inflating: CovidDataset/Train/Normal/NORMAL2-IM-1345-0001-0001.jpeg  \n",
            "  inflating: CovidDataset/Train/Normal/NORMAL2-IM-1346-0001.jpeg  \n",
            "   creating: CovidDataset/Val/\n",
            "   creating: CovidDataset/Val/Covid/\n",
            "  inflating: CovidDataset/Val/Covid/16654_1_1.png  \n",
            "  inflating: CovidDataset/Val/Covid/16654_2_1.jpg  \n",
            "  inflating: CovidDataset/Val/Covid/16654_4_1.jpg  \n",
            "  inflating: CovidDataset/Val/Covid/23E99E2E-447C-46E5-8EB2-D35D12473C39.png  \n",
            "  inflating: CovidDataset/Val/Covid/31BA3780-2323-493F-8AED-62081B9C383B.jpeg  \n",
            "  inflating: CovidDataset/Val/Covid/353889E0-A1E8-4F9E-A0B8-F24F36BCFBFB.jpeg  \n",
            "  inflating: CovidDataset/Val/Covid/41591_2020_819_Fig1_HTML.webp-day10.png  \n",
            "  inflating: CovidDataset/Val/Covid/41591_2020_819_Fig1_HTML.webp-day5.png  \n",
            "  inflating: CovidDataset/Val/Covid/4e43e48d52c9e2d4c6c1fb9bc1544f_jumbo.jpeg  \n",
            "  inflating: CovidDataset/Val/Covid/4-x-day1.jpg  \n",
            "  inflating: CovidDataset/Val/Covid/53EC07C9-5CC6-4BE4-9B6F-D7B0D72AAA7E.jpeg  \n",
            "  inflating: CovidDataset/Val/Covid/58cb9263f16e94305c730685358e4e_jumbo.jpeg  \n",
            "  inflating: CovidDataset/Val/Covid/6b3bdbc31f65230b8cdcc3cef5f8ba8a-40ac-0.jpg  \n",
            "  inflating: CovidDataset/Val/Covid/6b44464d-73a7-4cf3-bbb6-ffe7168300e3.annot.original.jpeg  \n",
            "  inflating: CovidDataset/Val/Covid/6C94A287-C059-46A0-8600-AFB95F4727B7.jpeg  \n",
            "  inflating: CovidDataset/Val/Covid/6CB4EFC6-68FA-4CD5-940C-BEFA8DAFE9A7.jpeg  \n",
            "  inflating: CovidDataset/Val/Covid/7AF6C1AF-D249-4BD2-8C26-449304105D03.jpeg  \n",
            "  inflating: CovidDataset/Val/Covid/7C69C012-7479-493F-8722-ABC29C60A2DD.jpeg  \n",
            "  inflating: CovidDataset/Val/Covid/85E52EB3-56E9-4D67-82DA-DEA247C82886.jpeg  \n",
            "  inflating: CovidDataset/Val/Covid/88de9d8c39e946abd495b37cd07d89e5-2ee6-0.jpg  \n",
            "  inflating: CovidDataset/Val/Covid/88de9d8c39e946abd495b37cd07d89e5-6531-0.jpg  \n",
            "  inflating: CovidDataset/Val/Covid/auntminnie-c-2020_01_28_23_51_6665_2020_01_28_Vietnam_coronavirus.jpeg  \n",
            "  inflating: CovidDataset/Val/Covid/auntminnie-d-2020_01_28_23_51_6665_2020_01_28_Vietnam_coronavirus.jpeg  \n",
            "  inflating: CovidDataset/Val/Covid/B2D20576-00B7-4519-A415-72DE29C90C34.jpeg  \n",
            "  inflating: CovidDataset/Val/Covid/covid-19-pneumonia-12.jpg  \n",
            "  inflating: CovidDataset/Val/Covid/covid-19-pneumonia-14-PA.png  \n",
            "  inflating: CovidDataset/Val/Covid/covid-19-pneumonia-35-1.jpg  \n",
            "  inflating: CovidDataset/Val/Covid/covid-19-pneumonia-35-2.jpg  \n",
            "  inflating: CovidDataset/Val/Covid/covid-19-pneumonia-53.jpg  \n",
            "  inflating: CovidDataset/Val/Covid/covid-19-pneumonia-8.jpg  \n",
            "   creating: CovidDataset/Val/Normal/\n",
            "  inflating: CovidDataset/Val/Normal/NORMAL2-IM-0395-0001.jpeg  \n",
            "  inflating: CovidDataset/Val/Normal/NORMAL2-IM-0408-0001.jpeg  \n",
            "  inflating: CovidDataset/Val/Normal/NORMAL2-IM-0416-0001-0001.jpeg  \n",
            "  inflating: CovidDataset/Val/Normal/NORMAL2-IM-0441-0001.jpeg  \n",
            "  inflating: CovidDataset/Val/Normal/NORMAL2-IM-0462-0001.jpeg  \n",
            "  inflating: CovidDataset/Val/Normal/NORMAL2-IM-0535-0001-0002.jpeg  \n",
            "  inflating: CovidDataset/Val/Normal/NORMAL2-IM-0652-0001.jpeg  \n",
            "  inflating: CovidDataset/Val/Normal/NORMAL2-IM-0678-0001.jpeg  \n",
            "  inflating: CovidDataset/Val/Normal/NORMAL2-IM-0730-0001.jpeg  \n",
            "  inflating: CovidDataset/Val/Normal/NORMAL2-IM-0765-0001.jpeg  \n",
            "  inflating: CovidDataset/Val/Normal/NORMAL2-IM-0790-0001.jpeg  \n",
            "  inflating: CovidDataset/Val/Normal/NORMAL2-IM-0842-0001.jpeg  \n",
            "  inflating: CovidDataset/Val/Normal/NORMAL2-IM-0851-0001.jpeg  \n",
            "  inflating: CovidDataset/Val/Normal/NORMAL2-IM-0851-0001-0001.jpeg  \n",
            "  inflating: CovidDataset/Val/Normal/NORMAL2-IM-0857-0001.jpeg  \n",
            "  inflating: CovidDataset/Val/Normal/NORMAL2-IM-0859-0001.jpeg  \n",
            "  inflating: CovidDataset/Val/Normal/NORMAL2-IM-0869-0001.jpeg  \n",
            "  inflating: CovidDataset/Val/Normal/NORMAL2-IM-0873-0001.jpeg  \n",
            "  inflating: CovidDataset/Val/Normal/NORMAL2-IM-0894-0001.jpeg  \n",
            "  inflating: CovidDataset/Val/Normal/NORMAL2-IM-0905-0001.jpeg  \n",
            "  inflating: CovidDataset/Val/Normal/NORMAL2-IM-0914-0001.jpeg  \n",
            "  inflating: CovidDataset/Val/Normal/NORMAL2-IM-1022-0001.jpeg  \n",
            "  inflating: CovidDataset/Val/Normal/NORMAL2-IM-1037-0001.jpeg  \n",
            "  inflating: CovidDataset/Val/Normal/NORMAL2-IM-1045-0001.jpeg  \n",
            "  inflating: CovidDataset/Val/Normal/NORMAL2-IM-1060-0001.jpeg  \n",
            "  inflating: CovidDataset/Val/Normal/NORMAL2-IM-1191-0001.jpeg  \n",
            "  inflating: CovidDataset/Val/Normal/NORMAL2-IM-1228-0001.jpeg  \n",
            "  inflating: CovidDataset/Val/Normal/NORMAL2-IM-1237-0001.jpeg  \n",
            "  inflating: CovidDataset/Val/Normal/NORMAL2-IM-1240-0001.jpeg  \n",
            "  inflating: CovidDataset/Val/Normal/NORMAL2-IM-1275-0001.jpeg  \n"
          ],
          "name": "stdout"
        }
      ]
    },
    {
      "cell_type": "code",
      "metadata": {
        "id": "klZeEzJSqUvQ"
      },
      "source": [
        "TRAIN_PATH = \"CovidDataset/Train\"\n",
        "VAL_PATH = \"CovidDataset/Test\"\n",
        "\n"
      ],
      "execution_count": 31,
      "outputs": []
    },
    {
      "cell_type": "code",
      "metadata": {
        "id": "1s_VfacWrA-E"
      },
      "source": [
        "import numpy as np\n",
        "import matplotlib.pyplot as plt\n",
        "import keras\n",
        "from keras.layers import *\n",
        "from keras.models import * \n",
        "from keras.preprocessing import image"
      ],
      "execution_count": 32,
      "outputs": []
    },
    {
      "cell_type": "code",
      "metadata": {
        "id": "2vRL0YMtrIsn"
      },
      "source": [
        "# CNN Based Model in Keras\n",
        "\n",
        "model = Sequential()\n",
        "model.add(Conv2D(32,kernel_size=(3,3),activation='relu',input_shape=(224,224,3)))\n",
        "model.add(Conv2D(64,(3,3),activation='relu'))\n",
        "model.add(MaxPooling2D(pool_size=(2,2)))\n",
        "model.add(Dropout(0.25))\n",
        "\n",
        "model.add(Conv2D(64,(3,3),activation='relu'))\n",
        "model.add(MaxPooling2D(pool_size=(2,2)))\n",
        "model.add(Dropout(0.25))\n",
        "\n",
        "model.add(Conv2D(128,(3,3),activation='relu'))\n",
        "model.add(MaxPooling2D(pool_size=(2,2)))\n",
        "model.add(Dropout(0.25))\n",
        "\n",
        "model.add(Flatten())\n",
        "model.add(Dense(64,activation='relu'))\n",
        "model.add(Dropout(0.5))\n",
        "model.add(Dense(1,activation='sigmoid'))\n",
        "\n",
        "model.compile(loss=keras.losses.binary_crossentropy,optimizer='adam',metrics=['accuracy'])"
      ],
      "execution_count": 33,
      "outputs": []
    },
    {
      "cell_type": "code",
      "metadata": {
        "id": "gNxzu23Ouxcp",
        "colab": {
          "base_uri": "https://localhost:8080/"
        },
        "outputId": "2f466677-3b7f-4321-d367-dd78843d59be"
      },
      "source": [
        "model.summary()"
      ],
      "execution_count": 34,
      "outputs": [
        {
          "output_type": "stream",
          "text": [
            "Model: \"sequential_2\"\n",
            "_________________________________________________________________\n",
            "Layer (type)                 Output Shape              Param #   \n",
            "=================================================================\n",
            "conv2d_8 (Conv2D)            (None, 222, 222, 32)      896       \n",
            "_________________________________________________________________\n",
            "conv2d_9 (Conv2D)            (None, 220, 220, 64)      18496     \n",
            "_________________________________________________________________\n",
            "max_pooling2d_6 (MaxPooling2 (None, 110, 110, 64)      0         \n",
            "_________________________________________________________________\n",
            "dropout_8 (Dropout)          (None, 110, 110, 64)      0         \n",
            "_________________________________________________________________\n",
            "conv2d_10 (Conv2D)           (None, 108, 108, 64)      36928     \n",
            "_________________________________________________________________\n",
            "max_pooling2d_7 (MaxPooling2 (None, 54, 54, 64)        0         \n",
            "_________________________________________________________________\n",
            "dropout_9 (Dropout)          (None, 54, 54, 64)        0         \n",
            "_________________________________________________________________\n",
            "conv2d_11 (Conv2D)           (None, 52, 52, 128)       73856     \n",
            "_________________________________________________________________\n",
            "max_pooling2d_8 (MaxPooling2 (None, 26, 26, 128)       0         \n",
            "_________________________________________________________________\n",
            "dropout_10 (Dropout)         (None, 26, 26, 128)       0         \n",
            "_________________________________________________________________\n",
            "flatten_2 (Flatten)          (None, 86528)             0         \n",
            "_________________________________________________________________\n",
            "dense_4 (Dense)              (None, 64)                5537856   \n",
            "_________________________________________________________________\n",
            "dropout_11 (Dropout)         (None, 64)                0         \n",
            "_________________________________________________________________\n",
            "dense_5 (Dense)              (None, 1)                 65        \n",
            "=================================================================\n",
            "Total params: 5,668,097\n",
            "Trainable params: 5,668,097\n",
            "Non-trainable params: 0\n",
            "_________________________________________________________________\n"
          ],
          "name": "stdout"
        }
      ]
    },
    {
      "cell_type": "code",
      "metadata": {
        "id": "2nnojiosu2YM"
      },
      "source": [
        "# Train from scratch\n",
        "train_datagen = image.ImageDataGenerator(\n",
        "    rescale = 1./255,\n",
        "    shear_range = 0.2,\n",
        "    zoom_range = 0.2,\n",
        "    horizontal_flip = True,\n",
        ")\n",
        "\n",
        "test_dataset = image.ImageDataGenerator(rescale=1./255)"
      ],
      "execution_count": 35,
      "outputs": []
    },
    {
      "cell_type": "code",
      "metadata": {
        "id": "iLC3vWiHv2s8",
        "colab": {
          "base_uri": "https://localhost:8080/"
        },
        "outputId": "1ec91ed4-6500-40b4-b3bb-90ecf5f61fad"
      },
      "source": [
        "train_generator = train_datagen.flow_from_directory(\n",
        "    '/content/CovidDataset/Train',\n",
        "    target_size = (224,224),\n",
        "    batch_size = 32,\n",
        "    class_mode = 'binary')\n"
      ],
      "execution_count": 36,
      "outputs": [
        {
          "output_type": "stream",
          "text": [
            "Found 364 images belonging to 2 classes.\n"
          ],
          "name": "stdout"
        }
      ]
    },
    {
      "cell_type": "code",
      "metadata": {
        "id": "q_ov9LTgwQSg",
        "colab": {
          "base_uri": "https://localhost:8080/"
        },
        "outputId": "04e0d9bf-ef5a-4091-9db7-95feb8e45516"
      },
      "source": [
        "train_generator.class_indices"
      ],
      "execution_count": 37,
      "outputs": [
        {
          "output_type": "execute_result",
          "data": {
            "text/plain": [
              "{'Covid': 0, 'Normal': 1}"
            ]
          },
          "metadata": {
            "tags": []
          },
          "execution_count": 37
        }
      ]
    },
    {
      "cell_type": "code",
      "metadata": {
        "id": "0RQ5LeuQwmxj",
        "colab": {
          "base_uri": "https://localhost:8080/"
        },
        "outputId": "401af543-0515-4dae-b485-261e960af769"
      },
      "source": [
        "validation_generator = test_dataset.flow_from_directory(\n",
        "    '/content/CovidDataset/Val',\n",
        "    target_size = (224,224),\n",
        "    batch_size = 32,\n",
        "    class_mode = 'binary')"
      ],
      "execution_count": 38,
      "outputs": [
        {
          "output_type": "stream",
          "text": [
            "Found 60 images belonging to 2 classes.\n"
          ],
          "name": "stdout"
        }
      ]
    },
    {
      "cell_type": "code",
      "metadata": {
        "id": "pGuVlZF5wZsh",
        "colab": {
          "base_uri": "https://localhost:8080/"
        },
        "outputId": "7bd290e2-620d-481b-a9d1-c73e3abcbe19"
      },
      "source": [
        "hist = model.fit_generator(\n",
        "    train_generator,\n",
        "    steps_per_epoch=10,\n",
        "    epochs = 30,\n",
        "    validation_data = validation_generator,\n",
        "    validation_steps=2\n",
        ")"
      ],
      "execution_count": 39,
      "outputs": [
        {
          "output_type": "stream",
          "text": [
            "/usr/local/lib/python3.7/dist-packages/tensorflow/python/keras/engine/training.py:1844: UserWarning: `Model.fit_generator` is deprecated and will be removed in a future version. Please use `Model.fit`, which supports generators.\n",
            "  warnings.warn('`Model.fit_generator` is deprecated and '\n"
          ],
          "name": "stderr"
        },
        {
          "output_type": "stream",
          "text": [
            "Epoch 1/30\n",
            "10/10 [==============================] - 15s 2s/step - loss: 0.8963 - accuracy: 0.5173 - val_loss: 0.6915 - val_accuracy: 0.5000\n",
            "Epoch 2/30\n",
            "10/10 [==============================] - 14s 1s/step - loss: 0.6866 - accuracy: 0.5352 - val_loss: 0.6860 - val_accuracy: 0.5000\n",
            "Epoch 3/30\n",
            "10/10 [==============================] - 14s 1s/step - loss: 0.6691 - accuracy: 0.6118 - val_loss: 0.6474 - val_accuracy: 0.8833\n",
            "Epoch 4/30\n",
            "10/10 [==============================] - 13s 1s/step - loss: 0.5864 - accuracy: 0.7265 - val_loss: 0.5884 - val_accuracy: 0.7167\n",
            "Epoch 5/30\n",
            "10/10 [==============================] - 14s 1s/step - loss: 0.5123 - accuracy: 0.7289 - val_loss: 0.5138 - val_accuracy: 0.7833\n",
            "Epoch 6/30\n",
            "10/10 [==============================] - 14s 1s/step - loss: 0.5228 - accuracy: 0.7346 - val_loss: 0.5492 - val_accuracy: 0.7167\n",
            "Epoch 7/30\n",
            "10/10 [==============================] - 14s 1s/step - loss: 0.4913 - accuracy: 0.7619 - val_loss: 0.5177 - val_accuracy: 0.7500\n",
            "Epoch 8/30\n",
            "10/10 [==============================] - 13s 1s/step - loss: 0.4376 - accuracy: 0.7867 - val_loss: 0.5138 - val_accuracy: 0.7833\n",
            "Epoch 9/30\n",
            "10/10 [==============================] - 14s 1s/step - loss: 0.4269 - accuracy: 0.7909 - val_loss: 0.4498 - val_accuracy: 0.8500\n",
            "Epoch 10/30\n",
            "10/10 [==============================] - 14s 1s/step - loss: 0.3447 - accuracy: 0.8474 - val_loss: 0.4662 - val_accuracy: 0.8000\n",
            "Epoch 11/30\n",
            "10/10 [==============================] - 14s 1s/step - loss: 0.3440 - accuracy: 0.8689 - val_loss: 0.6084 - val_accuracy: 0.7833\n",
            "Epoch 12/30\n",
            "10/10 [==============================] - 14s 1s/step - loss: 0.3892 - accuracy: 0.8468 - val_loss: 0.5138 - val_accuracy: 0.7833\n",
            "Epoch 13/30\n",
            "10/10 [==============================] - 14s 1s/step - loss: 0.4129 - accuracy: 0.8325 - val_loss: 0.4654 - val_accuracy: 0.7667\n",
            "Epoch 14/30\n",
            "10/10 [==============================] - 14s 1s/step - loss: 0.4186 - accuracy: 0.8199 - val_loss: 0.4707 - val_accuracy: 0.7667\n",
            "Epoch 15/30\n",
            "10/10 [==============================] - 14s 1s/step - loss: 0.4255 - accuracy: 0.8208 - val_loss: 0.4754 - val_accuracy: 0.7667\n",
            "Epoch 16/30\n",
            "10/10 [==============================] - 14s 1s/step - loss: 0.3349 - accuracy: 0.8714 - val_loss: 0.4700 - val_accuracy: 0.7833\n",
            "Epoch 17/30\n",
            "10/10 [==============================] - 13s 1s/step - loss: 0.3043 - accuracy: 0.9046 - val_loss: 0.4966 - val_accuracy: 0.7833\n",
            "Epoch 18/30\n",
            "10/10 [==============================] - 14s 1s/step - loss: 0.3379 - accuracy: 0.8607 - val_loss: 0.3623 - val_accuracy: 0.8667\n",
            "Epoch 19/30\n",
            "10/10 [==============================] - 14s 1s/step - loss: 0.4429 - accuracy: 0.8769 - val_loss: 0.4597 - val_accuracy: 0.7833\n",
            "Epoch 20/30\n",
            "10/10 [==============================] - 14s 1s/step - loss: 0.3368 - accuracy: 0.8845 - val_loss: 0.3736 - val_accuracy: 0.7667\n",
            "Epoch 21/30\n",
            "10/10 [==============================] - 14s 1s/step - loss: 0.3500 - accuracy: 0.8446 - val_loss: 0.3146 - val_accuracy: 0.8500\n",
            "Epoch 22/30\n",
            "10/10 [==============================] - 14s 1s/step - loss: 0.3494 - accuracy: 0.8653 - val_loss: 0.4089 - val_accuracy: 0.7833\n",
            "Epoch 23/30\n",
            "10/10 [==============================] - 14s 1s/step - loss: 0.3584 - accuracy: 0.8551 - val_loss: 0.4944 - val_accuracy: 0.7833\n",
            "Epoch 24/30\n",
            "10/10 [==============================] - 13s 1s/step - loss: 0.4374 - accuracy: 0.8657 - val_loss: 0.4625 - val_accuracy: 0.8000\n",
            "Epoch 25/30\n",
            "10/10 [==============================] - 14s 1s/step - loss: 0.4040 - accuracy: 0.8705 - val_loss: 0.3657 - val_accuracy: 0.8167\n",
            "Epoch 26/30\n",
            "10/10 [==============================] - 13s 1s/step - loss: 0.3263 - accuracy: 0.8947 - val_loss: 0.4163 - val_accuracy: 0.8167\n",
            "Epoch 27/30\n",
            "10/10 [==============================] - 13s 1s/step - loss: 0.3117 - accuracy: 0.8722 - val_loss: 0.5197 - val_accuracy: 0.8000\n",
            "Epoch 28/30\n",
            "10/10 [==============================] - 13s 1s/step - loss: 0.4169 - accuracy: 0.8242 - val_loss: 0.3277 - val_accuracy: 0.8667\n",
            "Epoch 29/30\n",
            "10/10 [==============================] - 13s 1s/step - loss: 0.3345 - accuracy: 0.8766 - val_loss: 0.4927 - val_accuracy: 0.8000\n",
            "Epoch 30/30\n",
            "10/10 [==============================] - 13s 1s/step - loss: 0.2971 - accuracy: 0.8727 - val_loss: 0.5166 - val_accuracy: 0.7833\n"
          ],
          "name": "stdout"
        }
      ]
    },
    {
      "cell_type": "code",
      "metadata": {
        "id": "fTpdKm8Lxz6z"
      },
      "source": [
        "model.save(\"modeln.h5\")"
      ],
      "execution_count": 40,
      "outputs": []
    },
    {
      "cell_type": "code",
      "metadata": {
        "colab": {
          "base_uri": "https://localhost:8080/"
        },
        "id": "tuVJkN_5W7al",
        "outputId": "b623a29c-1da3-4545-be2f-a5b91f2a4811"
      },
      "source": [
        "model.evaluate_generator(train_generator)"
      ],
      "execution_count": 41,
      "outputs": [
        {
          "output_type": "stream",
          "text": [
            "/usr/local/lib/python3.7/dist-packages/tensorflow/python/keras/engine/training.py:1877: UserWarning: `Model.evaluate_generator` is deprecated and will be removed in a future version. Please use `Model.evaluate`, which supports generators.\n",
            "  warnings.warn('`Model.evaluate_generator` is deprecated and '\n"
          ],
          "name": "stderr"
        },
        {
          "output_type": "execute_result",
          "data": {
            "text/plain": [
              "[0.3039412796497345, 0.901098906993866]"
            ]
          },
          "metadata": {
            "tags": []
          },
          "execution_count": 41
        }
      ]
    },
    {
      "cell_type": "code",
      "metadata": {
        "colab": {
          "base_uri": "https://localhost:8080/"
        },
        "id": "2iu7D_deXLFm",
        "outputId": "dccca74e-8782-4d8f-af38-c0630648e7a3"
      },
      "source": [
        "model.evaluate_generator(validation_generator)"
      ],
      "execution_count": 42,
      "outputs": [
        {
          "output_type": "stream",
          "text": [
            "/usr/local/lib/python3.7/dist-packages/tensorflow/python/keras/engine/training.py:1877: UserWarning: `Model.evaluate_generator` is deprecated and will be removed in a future version. Please use `Model.evaluate`, which supports generators.\n",
            "  warnings.warn('`Model.evaluate_generator` is deprecated and '\n"
          ],
          "name": "stderr"
        },
        {
          "output_type": "execute_result",
          "data": {
            "text/plain": [
              "[0.5166184902191162, 0.7833333611488342]"
            ]
          },
          "metadata": {
            "tags": []
          },
          "execution_count": 42
        }
      ]
    },
    {
      "cell_type": "code",
      "metadata": {
        "id": "QmUZsEY3XZtY"
      },
      "source": [
        "model=load_model(\"modeln.h5\")"
      ],
      "execution_count": 43,
      "outputs": []
    },
    {
      "cell_type": "code",
      "metadata": {
        "id": "i7o06U4FXtg8"
      },
      "source": [
        "\n",
        "\n",
        "import os\n"
      ],
      "execution_count": 44,
      "outputs": []
    },
    {
      "cell_type": "code",
      "metadata": {
        "colab": {
          "base_uri": "https://localhost:8080/"
        },
        "id": "apx1_ECMXvyD",
        "outputId": "2ce306a4-275d-4c86-a5ea-db70e07a874a"
      },
      "source": [
        "train_generator.class_indices"
      ],
      "execution_count": 45,
      "outputs": [
        {
          "output_type": "execute_result",
          "data": {
            "text/plain": [
              "{'Covid': 0, 'Normal': 1}"
            ]
          },
          "metadata": {
            "tags": []
          },
          "execution_count": 45
        }
      ]
    },
    {
      "cell_type": "code",
      "metadata": {
        "id": "uoF7QwMsX4Ha"
      },
      "source": [
        "y_actual=[]\n",
        "y_test=[]"
      ],
      "execution_count": 46,
      "outputs": []
    },
    {
      "cell_type": "code",
      "metadata": {
        "colab": {
          "base_uri": "https://localhost:8080/"
        },
        "id": "tK4JKqzhYAxU",
        "outputId": "65734a8f-eb5f-4504-ed36-9ac08f54362b"
      },
      "source": [
        "for i in os.listdir(\"./CovidDataset/Val/Normal/\"):\n",
        "  img=image.load_img(\"./CovidDataset/Val/Normal/\"+i,target_size=(224,224))\n",
        "  img=image.img_to_array(img)\n",
        "  img=np.expand_dims(img,axis=0)\n",
        "  p=model.predict_classes(img)\n",
        "  y_test.append(p[0,0])\n",
        "  y_actual.append(1)"
      ],
      "execution_count": 47,
      "outputs": [
        {
          "output_type": "stream",
          "text": [
            "/usr/local/lib/python3.7/dist-packages/tensorflow/python/keras/engine/sequential.py:450: UserWarning: `model.predict_classes()` is deprecated and will be removed after 2021-01-01. Please use instead:* `np.argmax(model.predict(x), axis=-1)`,   if your model does multi-class classification   (e.g. if it uses a `softmax` last-layer activation).* `(model.predict(x) > 0.5).astype(\"int32\")`,   if your model does binary classification   (e.g. if it uses a `sigmoid` last-layer activation).\n",
            "  warnings.warn('`model.predict_classes()` is deprecated and '\n"
          ],
          "name": "stderr"
        }
      ]
    },
    {
      "cell_type": "code",
      "metadata": {
        "colab": {
          "base_uri": "https://localhost:8080/"
        },
        "id": "tqRitNZkZUR_",
        "outputId": "5a563a2e-53d7-476f-8a97-73e76dacaa83"
      },
      "source": [
        "for i in os.listdir(\"./CovidDataset/Val/Covid/\"):\n",
        "  img=image.load_img(\"./CovidDataset/Val/Covid/\"+i,target_size=(224,224))\n",
        "  img=image.img_to_array(img)\n",
        "  img=np.expand_dims(img,axis=0)\n",
        "  p=model.predict_classes(img)\n",
        "  y_test.append(p[0,0])\n",
        "  y_actual.append(0)"
      ],
      "execution_count": 48,
      "outputs": [
        {
          "output_type": "stream",
          "text": [
            "/usr/local/lib/python3.7/dist-packages/tensorflow/python/keras/engine/sequential.py:450: UserWarning: `model.predict_classes()` is deprecated and will be removed after 2021-01-01. Please use instead:* `np.argmax(model.predict(x), axis=-1)`,   if your model does multi-class classification   (e.g. if it uses a `softmax` last-layer activation).* `(model.predict(x) > 0.5).astype(\"int32\")`,   if your model does binary classification   (e.g. if it uses a `sigmoid` last-layer activation).\n",
            "  warnings.warn('`model.predict_classes()` is deprecated and '\n"
          ],
          "name": "stderr"
        }
      ]
    },
    {
      "cell_type": "code",
      "metadata": {
        "id": "Xpj241V6ZmBp"
      },
      "source": [
        "y_actual=np.array(y_actual)\n",
        "y_test=np.array(y_test)"
      ],
      "execution_count": 49,
      "outputs": []
    },
    {
      "cell_type": "code",
      "metadata": {
        "id": "uCODGfYzZ2am"
      },
      "source": [
        "from sklearn.metrics import confusion_matrix"
      ],
      "execution_count": 50,
      "outputs": []
    },
    {
      "cell_type": "code",
      "metadata": {
        "id": "BD_qcLf-Z-ZV"
      },
      "source": [
        "cm=confusion_matrix(y_actual,y_test)"
      ],
      "execution_count": 51,
      "outputs": []
    },
    {
      "cell_type": "code",
      "metadata": {
        "colab": {
          "base_uri": "https://localhost:8080/"
        },
        "id": "RorBJbXRaZQe",
        "outputId": "6952363d-76c4-417c-967a-b6d046e45241"
      },
      "source": [
        "!pip install seaborn"
      ],
      "execution_count": null,
      "outputs": [
        {
          "output_type": "stream",
          "text": [
            "Requirement already satisfied: seaborn in /usr/local/lib/python3.7/dist-packages (0.11.1)\n",
            "Requirement already satisfied: pandas>=0.23 in /usr/local/lib/python3.7/dist-packages (from seaborn) (1.1.5)\n",
            "Requirement already satisfied: matplotlib>=2.2 in /usr/local/lib/python3.7/dist-packages (from seaborn) (3.2.2)\n",
            "Requirement already satisfied: scipy>=1.0 in /usr/local/lib/python3.7/dist-packages (from seaborn) (1.4.1)\n",
            "Requirement already satisfied: numpy>=1.15 in /usr/local/lib/python3.7/dist-packages (from seaborn) (1.19.5)\n",
            "Requirement already satisfied: pytz>=2017.2 in /usr/local/lib/python3.7/dist-packages (from pandas>=0.23->seaborn) (2018.9)\n",
            "Requirement already satisfied: python-dateutil>=2.7.3 in /usr/local/lib/python3.7/dist-packages (from pandas>=0.23->seaborn) (2.8.1)\n",
            "Requirement already satisfied: kiwisolver>=1.0.1 in /usr/local/lib/python3.7/dist-packages (from matplotlib>=2.2->seaborn) (1.3.1)\n",
            "Requirement already satisfied: cycler>=0.10 in /usr/local/lib/python3.7/dist-packages (from matplotlib>=2.2->seaborn) (0.10.0)\n",
            "Requirement already satisfied: pyparsing!=2.0.4,!=2.1.2,!=2.1.6,>=2.0.1 in /usr/local/lib/python3.7/dist-packages (from matplotlib>=2.2->seaborn) (2.4.7)\n",
            "Requirement already satisfied: six>=1.5 in /usr/local/lib/python3.7/dist-packages (from python-dateutil>=2.7.3->pandas>=0.23->seaborn) (1.15.0)\n"
          ],
          "name": "stdout"
        }
      ]
    },
    {
      "cell_type": "code",
      "metadata": {
        "id": "g2t6KkOnaJLN"
      },
      "source": [
        "import seaborn as sns"
      ],
      "execution_count": 52,
      "outputs": []
    },
    {
      "cell_type": "code",
      "metadata": {
        "colab": {
          "base_uri": "https://localhost:8080/",
          "height": 286
        },
        "id": "6nQ1WRpDagwa",
        "outputId": "50e0a480-04a7-4971-94dc-9c290f46fbcf"
      },
      "source": [
        "sns.heatmap(cm,cmap=\"plasma\",annot=True)"
      ],
      "execution_count": 53,
      "outputs": [
        {
          "output_type": "execute_result",
          "data": {
            "text/plain": [
              "<matplotlib.axes._subplots.AxesSubplot at 0x7f22bf6f5d10>"
            ]
          },
          "metadata": {
            "tags": []
          },
          "execution_count": 53
        },
        {
          "output_type": "display_data",
          "data": {
            "image/png": "[encoded data removed]",
            "text/plain": [
              "<Figure size 432x288 with 2 Axes>"
            ]
          },
          "metadata": {
            "tags": [],
            "needs_background": "light"
          }
        }
      ]
    },
    {
      "cell_type": "code",
      "metadata": {
        "id": "tLKntutX5XT2"
      },
      "source": [
        ""
      ],
      "execution_count": null,
      "outputs": []
    }
  ]
}